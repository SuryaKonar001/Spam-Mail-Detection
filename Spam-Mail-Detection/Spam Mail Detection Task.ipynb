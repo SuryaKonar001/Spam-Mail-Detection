{
 "cells": [
  {
   "cell_type": "code",
   "execution_count": 1,
   "id": "0375dfec",
   "metadata": {},
   "outputs": [],
   "source": [
    "import numpy as np\n",
    "import pandas as pd\n",
    "from sklearn.model_selection import train_test_split\n",
    "from sklearn.feature_extraction.text import TfidfVectorizer\n",
    "from sklearn.linear_model import LogisticRegression\n",
    "from sklearn.metrics import accuracy_score"
   ]
  },
  {
   "cell_type": "code",
   "execution_count": 3,
   "id": "8a001e54",
   "metadata": {},
   "outputs": [],
   "source": [
    "data=pd.read_csv('spam.csv',encoding = \"ISO-8859-1\", skiprows=1, usecols=[0,1], names=[\"label\", \"message\"])"
   ]
  },
  {
   "cell_type": "code",
   "execution_count": 4,
   "id": "4bc29791",
   "metadata": {},
   "outputs": [
    {
     "data": {
      "text/html": [
       "<div>\n",
       "<style scoped>\n",
       "    .dataframe tbody tr th:only-of-type {\n",
       "        vertical-align: middle;\n",
       "    }\n",
       "\n",
       "    .dataframe tbody tr th {\n",
       "        vertical-align: top;\n",
       "    }\n",
       "\n",
       "    .dataframe thead th {\n",
       "        text-align: right;\n",
       "    }\n",
       "</style>\n",
       "<table border=\"1\" class=\"dataframe\">\n",
       "  <thead>\n",
       "    <tr style=\"text-align: right;\">\n",
       "      <th></th>\n",
       "      <th>label</th>\n",
       "      <th>message</th>\n",
       "    </tr>\n",
       "  </thead>\n",
       "  <tbody>\n",
       "    <tr>\n",
       "      <th>0</th>\n",
       "      <td>ham</td>\n",
       "      <td>Go until jurong point, crazy.. Available only ...</td>\n",
       "    </tr>\n",
       "    <tr>\n",
       "      <th>1</th>\n",
       "      <td>ham</td>\n",
       "      <td>Ok lar... Joking wif u oni...</td>\n",
       "    </tr>\n",
       "    <tr>\n",
       "      <th>2</th>\n",
       "      <td>spam</td>\n",
       "      <td>Free entry in 2 a wkly comp to win FA Cup fina...</td>\n",
       "    </tr>\n",
       "    <tr>\n",
       "      <th>3</th>\n",
       "      <td>ham</td>\n",
       "      <td>U dun say so early hor... U c already then say...</td>\n",
       "    </tr>\n",
       "    <tr>\n",
       "      <th>4</th>\n",
       "      <td>ham</td>\n",
       "      <td>Nah I don't think he goes to usf, he lives aro...</td>\n",
       "    </tr>\n",
       "    <tr>\n",
       "      <th>...</th>\n",
       "      <td>...</td>\n",
       "      <td>...</td>\n",
       "    </tr>\n",
       "    <tr>\n",
       "      <th>5567</th>\n",
       "      <td>spam</td>\n",
       "      <td>This is the 2nd time we have tried 2 contact u...</td>\n",
       "    </tr>\n",
       "    <tr>\n",
       "      <th>5568</th>\n",
       "      <td>ham</td>\n",
       "      <td>Will Ì_ b going to esplanade fr home?</td>\n",
       "    </tr>\n",
       "    <tr>\n",
       "      <th>5569</th>\n",
       "      <td>ham</td>\n",
       "      <td>Pity, * was in mood for that. So...any other s...</td>\n",
       "    </tr>\n",
       "    <tr>\n",
       "      <th>5570</th>\n",
       "      <td>ham</td>\n",
       "      <td>The guy did some bitching but I acted like i'd...</td>\n",
       "    </tr>\n",
       "    <tr>\n",
       "      <th>5571</th>\n",
       "      <td>ham</td>\n",
       "      <td>Rofl. Its true to its name</td>\n",
       "    </tr>\n",
       "  </tbody>\n",
       "</table>\n",
       "<p>5572 rows × 2 columns</p>\n",
       "</div>"
      ],
      "text/plain": [
       "     label                                            message\n",
       "0      ham  Go until jurong point, crazy.. Available only ...\n",
       "1      ham                      Ok lar... Joking wif u oni...\n",
       "2     spam  Free entry in 2 a wkly comp to win FA Cup fina...\n",
       "3      ham  U dun say so early hor... U c already then say...\n",
       "4      ham  Nah I don't think he goes to usf, he lives aro...\n",
       "...    ...                                                ...\n",
       "5567  spam  This is the 2nd time we have tried 2 contact u...\n",
       "5568   ham              Will Ì_ b going to esplanade fr home?\n",
       "5569   ham  Pity, * was in mood for that. So...any other s...\n",
       "5570   ham  The guy did some bitching but I acted like i'd...\n",
       "5571   ham                         Rofl. Its true to its name\n",
       "\n",
       "[5572 rows x 2 columns]"
      ]
     },
     "execution_count": 4,
     "metadata": {},
     "output_type": "execute_result"
    }
   ],
   "source": [
    "data"
   ]
  },
  {
   "cell_type": "code",
   "execution_count": 5,
   "id": "17af94ea",
   "metadata": {},
   "outputs": [
    {
     "data": {
      "text/plain": [
       "label      0\n",
       "message    0\n",
       "dtype: int64"
      ]
     },
     "execution_count": 5,
     "metadata": {},
     "output_type": "execute_result"
    }
   ],
   "source": [
    "#if there were a null value, we would replace it with an empty string - ''\n",
    "data.isnull().sum()"
   ]
  },
  {
   "cell_type": "code",
   "execution_count": 7,
   "id": "266cd2f0",
   "metadata": {},
   "outputs": [],
   "source": [
    "#labelling spam mail as 0 and ham mail as 1\n",
    "data['Id']=data['label'].apply(lambda x:0 if x=='spam' else 1)\n",
    "#data.replace({'label':{'spam':0,'ham':1}},inplace=True)\n",
    "#OR\n",
    "#data.loc[data.label=='spam','label',]=0\n",
    "#data.loc[data.label=='ham','label',]=1"
   ]
  },
  {
   "cell_type": "code",
   "execution_count": 8,
   "id": "0043d352",
   "metadata": {
    "scrolled": true
   },
   "outputs": [
    {
     "data": {
      "text/html": [
       "<div>\n",
       "<style scoped>\n",
       "    .dataframe tbody tr th:only-of-type {\n",
       "        vertical-align: middle;\n",
       "    }\n",
       "\n",
       "    .dataframe tbody tr th {\n",
       "        vertical-align: top;\n",
       "    }\n",
       "\n",
       "    .dataframe thead th {\n",
       "        text-align: right;\n",
       "    }\n",
       "</style>\n",
       "<table border=\"1\" class=\"dataframe\">\n",
       "  <thead>\n",
       "    <tr style=\"text-align: right;\">\n",
       "      <th></th>\n",
       "      <th>label</th>\n",
       "      <th>message</th>\n",
       "      <th>Id</th>\n",
       "    </tr>\n",
       "  </thead>\n",
       "  <tbody>\n",
       "    <tr>\n",
       "      <th>0</th>\n",
       "      <td>ham</td>\n",
       "      <td>Go until jurong point, crazy.. Available only ...</td>\n",
       "      <td>1</td>\n",
       "    </tr>\n",
       "    <tr>\n",
       "      <th>1</th>\n",
       "      <td>ham</td>\n",
       "      <td>Ok lar... Joking wif u oni...</td>\n",
       "      <td>1</td>\n",
       "    </tr>\n",
       "    <tr>\n",
       "      <th>2</th>\n",
       "      <td>spam</td>\n",
       "      <td>Free entry in 2 a wkly comp to win FA Cup fina...</td>\n",
       "      <td>0</td>\n",
       "    </tr>\n",
       "    <tr>\n",
       "      <th>3</th>\n",
       "      <td>ham</td>\n",
       "      <td>U dun say so early hor... U c already then say...</td>\n",
       "      <td>1</td>\n",
       "    </tr>\n",
       "    <tr>\n",
       "      <th>4</th>\n",
       "      <td>ham</td>\n",
       "      <td>Nah I don't think he goes to usf, he lives aro...</td>\n",
       "      <td>1</td>\n",
       "    </tr>\n",
       "  </tbody>\n",
       "</table>\n",
       "</div>"
      ],
      "text/plain": [
       "  label                                            message  Id\n",
       "0   ham  Go until jurong point, crazy.. Available only ...   1\n",
       "1   ham                      Ok lar... Joking wif u oni...   1\n",
       "2  spam  Free entry in 2 a wkly comp to win FA Cup fina...   0\n",
       "3   ham  U dun say so early hor... U c already then say...   1\n",
       "4   ham  Nah I don't think he goes to usf, he lives aro...   1"
      ]
     },
     "execution_count": 8,
     "metadata": {},
     "output_type": "execute_result"
    }
   ],
   "source": [
    "data.head()"
   ]
  },
  {
   "cell_type": "code",
   "execution_count": 9,
   "id": "20f1c4a9",
   "metadata": {},
   "outputs": [],
   "source": [
    "x=data.message\n",
    "y=data.Id"
   ]
  },
  {
   "cell_type": "code",
   "execution_count": 10,
   "id": "1ddbb43e",
   "metadata": {},
   "outputs": [],
   "source": [
    "x_train,x_test,y_train,y_test=train_test_split(x,y,test_size=0.2,random_state=3)"
   ]
  },
  {
   "cell_type": "code",
   "execution_count": 11,
   "id": "9162036b",
   "metadata": {},
   "outputs": [],
   "source": [
    "#feature extraction\n",
    "#min_df - The min score given to a word\n",
    "#stop_words to be ignored\n",
    "#all letters will be changed to lowercase\n",
    "feature=TfidfVectorizer(min_df=1,stop_words='english',lowercase=True)"
   ]
  },
  {
   "cell_type": "code",
   "execution_count": 12,
   "id": "2327e7f6",
   "metadata": {},
   "outputs": [],
   "source": [
    "x_train_features=feature.fit_transform(x_train)\n",
    "x_test_features=feature.transform(x_test)"
   ]
  },
  {
   "cell_type": "code",
   "execution_count": 13,
   "id": "06db4c40",
   "metadata": {},
   "outputs": [
    {
     "name": "stdout",
     "output_type": "stream",
     "text": [
      "  (0, 741)\t0.3219352588930141\n",
      "  (0, 3979)\t0.2410582143632299\n",
      "  (0, 4296)\t0.3891385935794867\n",
      "  (0, 6599)\t0.20296878731699391\n",
      "  (0, 3386)\t0.3219352588930141\n",
      "  (0, 2122)\t0.38613577623520473\n",
      "  (0, 3136)\t0.440116181574609\n",
      "  (0, 3262)\t0.25877035357606315\n",
      "  (0, 3380)\t0.21807195185332803\n",
      "  (0, 4513)\t0.2909649098524696\n",
      "  (1, 4061)\t0.380431198316959\n",
      "  (1, 6872)\t0.4306015894277422\n",
      "  (1, 6417)\t0.4769136859540388\n",
      "  (1, 6442)\t0.5652509076654626\n",
      "  (1, 7443)\t0.35056971070320353\n",
      "  (2, 933)\t0.4917598465723273\n",
      "  (2, 2109)\t0.42972812260098503\n",
      "  (2, 3917)\t0.40088501350982736\n",
      "  (2, 2226)\t0.413484525934624\n",
      "  (2, 5825)\t0.4917598465723273\n",
      "  (3, 6140)\t0.4903863168693604\n",
      "  (3, 1599)\t0.5927091854194291\n",
      "  (3, 1842)\t0.3708680641487708\n",
      "  (3, 7453)\t0.5202633571003087\n",
      "  (4, 2531)\t0.7419319091456392\n",
      "  :\t:\n",
      "  (4452, 2122)\t0.31002103760284144\n",
      "  (4453, 999)\t0.6760129013031282\n",
      "  (4453, 7273)\t0.5787739591782677\n",
      "  (4453, 1762)\t0.45610005640082985\n",
      "  (4454, 3029)\t0.42618909997886\n",
      "  (4454, 2086)\t0.3809693742808703\n",
      "  (4454, 3088)\t0.34475593009514444\n",
      "  (4454, 2001)\t0.4166919007849217\n",
      "  (4454, 1049)\t0.31932060116006045\n",
      "  (4454, 7346)\t0.31166263834107377\n",
      "  (4454, 5370)\t0.42618909997886\n",
      "  (4455, 1148)\t0.38998123077430413\n",
      "  (4455, 6433)\t0.38998123077430413\n",
      "  (4455, 6361)\t0.25697343671652706\n",
      "  (4455, 2764)\t0.3226323745940581\n",
      "  (4455, 7358)\t0.2915949626395065\n",
      "  (4455, 7407)\t0.3028481995557642\n",
      "  (4455, 2108)\t0.3136468384526087\n",
      "  (4455, 4251)\t0.30616657078392584\n",
      "  (4455, 3763)\t0.16807158405536876\n",
      "  (4455, 4773)\t0.35860460546223444\n",
      "  (4456, 6117)\t0.5304350313291551\n",
      "  (4456, 6133)\t0.5304350313291551\n",
      "  (4456, 1386)\t0.4460036316446079\n",
      "  (4456, 4557)\t0.48821933148688146\n"
     ]
    }
   ],
   "source": [
    "print(x_train_features)"
   ]
  },
  {
   "cell_type": "code",
   "execution_count": 14,
   "id": "f6a0b610",
   "metadata": {},
   "outputs": [],
   "source": [
    "log_reg=LogisticRegression()"
   ]
  },
  {
   "cell_type": "code",
   "execution_count": 15,
   "id": "1b4f91d5",
   "metadata": {},
   "outputs": [
    {
     "data": {
      "text/html": [
       "<style>#sk-container-id-1 {color: black;background-color: white;}#sk-container-id-1 pre{padding: 0;}#sk-container-id-1 div.sk-toggleable {background-color: white;}#sk-container-id-1 label.sk-toggleable__label {cursor: pointer;display: block;width: 100%;margin-bottom: 0;padding: 0.3em;box-sizing: border-box;text-align: center;}#sk-container-id-1 label.sk-toggleable__label-arrow:before {content: \"▸\";float: left;margin-right: 0.25em;color: #696969;}#sk-container-id-1 label.sk-toggleable__label-arrow:hover:before {color: black;}#sk-container-id-1 div.sk-estimator:hover label.sk-toggleable__label-arrow:before {color: black;}#sk-container-id-1 div.sk-toggleable__content {max-height: 0;max-width: 0;overflow: hidden;text-align: left;background-color: #f0f8ff;}#sk-container-id-1 div.sk-toggleable__content pre {margin: 0.2em;color: black;border-radius: 0.25em;background-color: #f0f8ff;}#sk-container-id-1 input.sk-toggleable__control:checked~div.sk-toggleable__content {max-height: 200px;max-width: 100%;overflow: auto;}#sk-container-id-1 input.sk-toggleable__control:checked~label.sk-toggleable__label-arrow:before {content: \"▾\";}#sk-container-id-1 div.sk-estimator input.sk-toggleable__control:checked~label.sk-toggleable__label {background-color: #d4ebff;}#sk-container-id-1 div.sk-label input.sk-toggleable__control:checked~label.sk-toggleable__label {background-color: #d4ebff;}#sk-container-id-1 input.sk-hidden--visually {border: 0;clip: rect(1px 1px 1px 1px);clip: rect(1px, 1px, 1px, 1px);height: 1px;margin: -1px;overflow: hidden;padding: 0;position: absolute;width: 1px;}#sk-container-id-1 div.sk-estimator {font-family: monospace;background-color: #f0f8ff;border: 1px dotted black;border-radius: 0.25em;box-sizing: border-box;margin-bottom: 0.5em;}#sk-container-id-1 div.sk-estimator:hover {background-color: #d4ebff;}#sk-container-id-1 div.sk-parallel-item::after {content: \"\";width: 100%;border-bottom: 1px solid gray;flex-grow: 1;}#sk-container-id-1 div.sk-label:hover label.sk-toggleable__label {background-color: #d4ebff;}#sk-container-id-1 div.sk-serial::before {content: \"\";position: absolute;border-left: 1px solid gray;box-sizing: border-box;top: 0;bottom: 0;left: 50%;z-index: 0;}#sk-container-id-1 div.sk-serial {display: flex;flex-direction: column;align-items: center;background-color: white;padding-right: 0.2em;padding-left: 0.2em;position: relative;}#sk-container-id-1 div.sk-item {position: relative;z-index: 1;}#sk-container-id-1 div.sk-parallel {display: flex;align-items: stretch;justify-content: center;background-color: white;position: relative;}#sk-container-id-1 div.sk-item::before, #sk-container-id-1 div.sk-parallel-item::before {content: \"\";position: absolute;border-left: 1px solid gray;box-sizing: border-box;top: 0;bottom: 0;left: 50%;z-index: -1;}#sk-container-id-1 div.sk-parallel-item {display: flex;flex-direction: column;z-index: 1;position: relative;background-color: white;}#sk-container-id-1 div.sk-parallel-item:first-child::after {align-self: flex-end;width: 50%;}#sk-container-id-1 div.sk-parallel-item:last-child::after {align-self: flex-start;width: 50%;}#sk-container-id-1 div.sk-parallel-item:only-child::after {width: 0;}#sk-container-id-1 div.sk-dashed-wrapped {border: 1px dashed gray;margin: 0 0.4em 0.5em 0.4em;box-sizing: border-box;padding-bottom: 0.4em;background-color: white;}#sk-container-id-1 div.sk-label label {font-family: monospace;font-weight: bold;display: inline-block;line-height: 1.2em;}#sk-container-id-1 div.sk-label-container {text-align: center;}#sk-container-id-1 div.sk-container {/* jupyter's `normalize.less` sets `[hidden] { display: none; }` but bootstrap.min.css set `[hidden] { display: none !important; }` so we also need the `!important` here to be able to override the default hidden behavior on the sphinx rendered scikit-learn.org. See: https://github.com/scikit-learn/scikit-learn/issues/21755 */display: inline-block !important;position: relative;}#sk-container-id-1 div.sk-text-repr-fallback {display: none;}</style><div id=\"sk-container-id-1\" class=\"sk-top-container\"><div class=\"sk-text-repr-fallback\"><pre>LogisticRegression()</pre><b>In a Jupyter environment, please rerun this cell to show the HTML representation or trust the notebook. <br />On GitHub, the HTML representation is unable to render, please try loading this page with nbviewer.org.</b></div><div class=\"sk-container\" hidden><div class=\"sk-item\"><div class=\"sk-estimator sk-toggleable\"><input class=\"sk-toggleable__control sk-hidden--visually\" id=\"sk-estimator-id-1\" type=\"checkbox\" checked><label for=\"sk-estimator-id-1\" class=\"sk-toggleable__label sk-toggleable__label-arrow\">LogisticRegression</label><div class=\"sk-toggleable__content\"><pre>LogisticRegression()</pre></div></div></div></div></div>"
      ],
      "text/plain": [
       "LogisticRegression()"
      ]
     },
     "execution_count": 15,
     "metadata": {},
     "output_type": "execute_result"
    }
   ],
   "source": [
    "log_reg.fit(x_train_features,y_train)"
   ]
  },
  {
   "cell_type": "code",
   "execution_count": 16,
   "id": "9756952e",
   "metadata": {},
   "outputs": [
    {
     "data": {
      "text/plain": [
       "0.9623318385650225"
      ]
     },
     "execution_count": 16,
     "metadata": {},
     "output_type": "execute_result"
    }
   ],
   "source": [
    "log_reg.score(x_test_features,y_test)"
   ]
  },
  {
   "cell_type": "code",
   "execution_count": 17,
   "id": "d78c8ae6",
   "metadata": {},
   "outputs": [
    {
     "data": {
      "text/plain": [
       "0.9661207089970832"
      ]
     },
     "execution_count": 17,
     "metadata": {},
     "output_type": "execute_result"
    }
   ],
   "source": [
    "log_reg.score(x_train_features,y_train)"
   ]
  },
  {
   "cell_type": "code",
   "execution_count": 18,
   "id": "c91e31b9",
   "metadata": {},
   "outputs": [],
   "source": [
    "#As train and test scores are nearby, model is well fitted"
   ]
  },
  {
   "cell_type": "code",
   "execution_count": 19,
   "id": "d1fd5ccd",
   "metadata": {},
   "outputs": [
    {
     "data": {
      "text/plain": [
       "0.9661207089970832"
      ]
     },
     "execution_count": 19,
     "metadata": {},
     "output_type": "execute_result"
    }
   ],
   "source": [
    "y_train_pred=log_reg.predict(x_train_features)\n",
    "accuracy_train=accuracy_score(y_train,y_train_pred)\n",
    "accuracy_train"
   ]
  },
  {
   "cell_type": "code",
   "execution_count": 20,
   "id": "2f3af5ac",
   "metadata": {},
   "outputs": [
    {
     "data": {
      "text/plain": [
       "0.9623318385650225"
      ]
     },
     "execution_count": 20,
     "metadata": {},
     "output_type": "execute_result"
    }
   ],
   "source": [
    "y_test_pred=log_reg.predict(x_test_features)\n",
    "accuracy_test=accuracy_score(y_test,y_test_pred)\n",
    "accuracy_test"
   ]
  },
  {
   "cell_type": "code",
   "execution_count": 21,
   "id": "6058c2ce",
   "metadata": {},
   "outputs": [
    {
     "name": "stdout",
     "output_type": "stream",
     "text": [
      "Spam Mail\n"
     ]
    }
   ],
   "source": [
    "#Building a predictive system\n",
    "input_mail=[\"Had your mobile 11 months or more? U R entitled to Update to the latest colour mobiles with camera for Free! Call The Mobile Update Co FREE on 08002986030\"]\n",
    "input_features=feature.transform(input_mail)\n",
    "pred=log_reg.predict(input_features)\n",
    "if pred[0]==1:\n",
    "    print(\"Not a Spam Mail\")\n",
    "else:\n",
    "    print(\"Spam Mail\")"
   ]
  },
  {
   "cell_type": "code",
   "execution_count": 22,
   "id": "53248532",
   "metadata": {},
   "outputs": [],
   "source": [
    "x_features=feature.transform(x)\n",
    "y_pred=log_reg.predict(x_features)"
   ]
  },
  {
   "cell_type": "code",
   "execution_count": 27,
   "id": "3b105bb3",
   "metadata": {},
   "outputs": [
    {
     "data": {
      "text/html": [
       "<div>\n",
       "<style scoped>\n",
       "    .dataframe tbody tr th:only-of-type {\n",
       "        vertical-align: middle;\n",
       "    }\n",
       "\n",
       "    .dataframe tbody tr th {\n",
       "        vertical-align: top;\n",
       "    }\n",
       "\n",
       "    .dataframe thead th {\n",
       "        text-align: right;\n",
       "    }\n",
       "</style>\n",
       "<table border=\"1\" class=\"dataframe\">\n",
       "  <thead>\n",
       "    <tr style=\"text-align: right;\">\n",
       "      <th></th>\n",
       "      <th>label</th>\n",
       "      <th>message</th>\n",
       "      <th>Id</th>\n",
       "      <th>Id_pred</th>\n",
       "      <th>label_pred</th>\n",
       "    </tr>\n",
       "  </thead>\n",
       "  <tbody>\n",
       "    <tr>\n",
       "      <th>0</th>\n",
       "      <td>ham</td>\n",
       "      <td>Go until jurong point, crazy.. Available only ...</td>\n",
       "      <td>1</td>\n",
       "      <td>1</td>\n",
       "      <td>ham</td>\n",
       "    </tr>\n",
       "    <tr>\n",
       "      <th>1</th>\n",
       "      <td>ham</td>\n",
       "      <td>Ok lar... Joking wif u oni...</td>\n",
       "      <td>1</td>\n",
       "      <td>1</td>\n",
       "      <td>ham</td>\n",
       "    </tr>\n",
       "    <tr>\n",
       "      <th>2</th>\n",
       "      <td>spam</td>\n",
       "      <td>Free entry in 2 a wkly comp to win FA Cup fina...</td>\n",
       "      <td>0</td>\n",
       "      <td>0</td>\n",
       "      <td>spam</td>\n",
       "    </tr>\n",
       "    <tr>\n",
       "      <th>3</th>\n",
       "      <td>ham</td>\n",
       "      <td>U dun say so early hor... U c already then say...</td>\n",
       "      <td>1</td>\n",
       "      <td>1</td>\n",
       "      <td>ham</td>\n",
       "    </tr>\n",
       "    <tr>\n",
       "      <th>4</th>\n",
       "      <td>ham</td>\n",
       "      <td>Nah I don't think he goes to usf, he lives aro...</td>\n",
       "      <td>1</td>\n",
       "      <td>1</td>\n",
       "      <td>ham</td>\n",
       "    </tr>\n",
       "    <tr>\n",
       "      <th>...</th>\n",
       "      <td>...</td>\n",
       "      <td>...</td>\n",
       "      <td>...</td>\n",
       "      <td>...</td>\n",
       "      <td>...</td>\n",
       "    </tr>\n",
       "    <tr>\n",
       "      <th>5567</th>\n",
       "      <td>spam</td>\n",
       "      <td>This is the 2nd time we have tried 2 contact u...</td>\n",
       "      <td>0</td>\n",
       "      <td>0</td>\n",
       "      <td>spam</td>\n",
       "    </tr>\n",
       "    <tr>\n",
       "      <th>5568</th>\n",
       "      <td>ham</td>\n",
       "      <td>Will Ì_ b going to esplanade fr home?</td>\n",
       "      <td>1</td>\n",
       "      <td>1</td>\n",
       "      <td>ham</td>\n",
       "    </tr>\n",
       "    <tr>\n",
       "      <th>5569</th>\n",
       "      <td>ham</td>\n",
       "      <td>Pity, * was in mood for that. So...any other s...</td>\n",
       "      <td>1</td>\n",
       "      <td>1</td>\n",
       "      <td>ham</td>\n",
       "    </tr>\n",
       "    <tr>\n",
       "      <th>5570</th>\n",
       "      <td>ham</td>\n",
       "      <td>The guy did some bitching but I acted like i'd...</td>\n",
       "      <td>1</td>\n",
       "      <td>1</td>\n",
       "      <td>ham</td>\n",
       "    </tr>\n",
       "    <tr>\n",
       "      <th>5571</th>\n",
       "      <td>ham</td>\n",
       "      <td>Rofl. Its true to its name</td>\n",
       "      <td>1</td>\n",
       "      <td>1</td>\n",
       "      <td>ham</td>\n",
       "    </tr>\n",
       "  </tbody>\n",
       "</table>\n",
       "<p>5572 rows × 5 columns</p>\n",
       "</div>"
      ],
      "text/plain": [
       "     label                                            message  Id  Id_pred  \\\n",
       "0      ham  Go until jurong point, crazy.. Available only ...   1        1   \n",
       "1      ham                      Ok lar... Joking wif u oni...   1        1   \n",
       "2     spam  Free entry in 2 a wkly comp to win FA Cup fina...   0        0   \n",
       "3      ham  U dun say so early hor... U c already then say...   1        1   \n",
       "4      ham  Nah I don't think he goes to usf, he lives aro...   1        1   \n",
       "...    ...                                                ...  ..      ...   \n",
       "5567  spam  This is the 2nd time we have tried 2 contact u...   0        0   \n",
       "5568   ham              Will Ì_ b going to esplanade fr home?   1        1   \n",
       "5569   ham  Pity, * was in mood for that. So...any other s...   1        1   \n",
       "5570   ham  The guy did some bitching but I acted like i'd...   1        1   \n",
       "5571   ham                         Rofl. Its true to its name   1        1   \n",
       "\n",
       "     label_pred  \n",
       "0           ham  \n",
       "1           ham  \n",
       "2          spam  \n",
       "3           ham  \n",
       "4           ham  \n",
       "...         ...  \n",
       "5567       spam  \n",
       "5568        ham  \n",
       "5569        ham  \n",
       "5570        ham  \n",
       "5571        ham  \n",
       "\n",
       "[5572 rows x 5 columns]"
      ]
     },
     "execution_count": 27,
     "metadata": {},
     "output_type": "execute_result"
    }
   ],
   "source": [
    "data['Id_pred']=y_pred\n",
    "data['label_pred']=data['Id_pred'].apply(lambda x:'spam' if x==0 else 'ham')\n",
    "data"
   ]
  },
  {
   "cell_type": "code",
   "execution_count": 29,
   "id": "5a7a197c",
   "metadata": {},
   "outputs": [],
   "source": [
    "result={'Label':data.label,'Message':data.message,'Label_pred':data.label_pred}\n",
    "pd.DataFrame(result).to_csv(\"Result.csv\")"
   ]
  }
 ],
 "metadata": {
  "kernelspec": {
   "display_name": "Python 3 (ipykernel)",
   "language": "python",
   "name": "python3"
  },
  "language_info": {
   "codemirror_mode": {
    "name": "ipython",
    "version": 3
   },
   "file_extension": ".py",
   "mimetype": "text/x-python",
   "name": "python",
   "nbconvert_exporter": "python",
   "pygments_lexer": "ipython3",
   "version": "3.10.6"
  }
 },
 "nbformat": 4,
 "nbformat_minor": 5
}
